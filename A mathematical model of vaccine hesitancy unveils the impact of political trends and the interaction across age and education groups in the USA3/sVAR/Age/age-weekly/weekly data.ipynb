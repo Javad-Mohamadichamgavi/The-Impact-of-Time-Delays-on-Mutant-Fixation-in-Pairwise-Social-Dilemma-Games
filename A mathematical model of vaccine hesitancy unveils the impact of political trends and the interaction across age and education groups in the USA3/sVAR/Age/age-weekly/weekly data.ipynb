{
 "cells": [
  {
   "cell_type": "code",
   "execution_count": 1,
   "id": "f5196d62",
   "metadata": {},
   "outputs": [],
   "source": [
    "import numpy as np\n",
    "import pandas as pd"
   ]
  },
  {
   "cell_type": "code",
   "execution_count": 13,
   "id": "5e3e4e0b",
   "metadata": {},
   "outputs": [],
   "source": [
    "statelist=[\"Alabama\", \"Alaska\", \"Arizona\", \"Arkansas\", \"California\", \"Colorado\",\n",
    "    \"Connecticut\", \"Delaware\", \"Florida\", \"Georgia\", \"Hawaii\", \"Idaho\",\n",
    "    \"Illinois\", \"Indiana\", \"Iowa\", \"Kansas\", \"Kentucky\", \"Louisiana\",\n",
    "    \"Maine\", \"Maryland\", \"Massachusetts\", \"Michigan\", \"Minnesota\",\n",
    "    \"Mississippi\", \"Missouri\", \"Montana\", \"Nebraska\", \"Nevada\",\n",
    "    \"New Hampshire\", \"New Jersey\", \"New Mexico\", \"New York\",\n",
    "    \"North Carolina\", \"North Dakota\", \"Ohio\", \"Oklahoma\", \"Oregon\",\n",
    "    \"Pennsylvania\", \"Rhode Island\", \"South Carolina\", \"South Dakota\",\n",
    "    \"Tennessee\", \"Texas\", \"Utah\", \"Vermont\", \"Virginia\", \"Washington\",\n",
    "    \"West Virginia\", \"Wisconsin\", \"Wyoming\"]\n",
    "agelist=[[\"D2.1\", \"D2.2\"],[\"D2.3\",\"D2.4\",\"D2.5\"],[\"D2.6\",\"D2.7\"]]\n",
    "dates=pd.read_csv(\"dates.txt\")"
   ]
  },
  {
   "cell_type": "code",
   "execution_count": 22,
   "id": "5aea9ea3",
   "metadata": {},
   "outputs": [
    {
     "name": "stdout",
     "output_type": "stream",
     "text": [
      "Alabama\n",
      "Alaska\n",
      "Arizona\n",
      "Arkansas\n",
      "California\n",
      "Colorado\n",
      "Connecticut\n",
      "Delaware\n",
      "Florida\n",
      "Georgia\n",
      "Hawaii\n",
      "Idaho\n",
      "Illinois\n",
      "Indiana\n",
      "Iowa\n",
      "Kansas\n",
      "Kentucky\n",
      "Louisiana\n",
      "Maine\n",
      "Maryland\n",
      "Massachusetts\n",
      "Michigan\n",
      "Minnesota\n",
      "Mississippi\n",
      "Missouri\n",
      "Montana\n",
      "Nebraska\n",
      "Nevada\n",
      "New Hampshire\n",
      "New Jersey\n",
      "New Mexico\n",
      "New York\n",
      "North Carolina\n",
      "North Dakota\n",
      "Ohio\n",
      "Oklahoma\n",
      "Oregon\n",
      "Pennsylvania\n",
      "Rhode Island\n",
      "South Carolina\n",
      "South Dakota\n",
      "Tennessee\n",
      "Texas\n",
      "Utah\n",
      "Vermont\n",
      "Virginia\n",
      "Washington\n",
      "West Virginia\n",
      "Wisconsin\n",
      "Wyoming\n"
     ]
    }
   ],
   "source": [
    "for state in statelist:\n",
    "    print(state)\n",
    "    Orginal_data= pd.DataFrame()\n",
    "    Orginal_data[\"Dates\"]=dates.loc[31:566, 'Dates']\n",
    "    for ii in range(3):\n",
    "        freq=np.zeros([3,567-31])\n",
    "        for dd in agelist[ii]:\n",
    "            tit=f'/home/javad/Desktop/Projects/Under process/the survay for covid and openioin of people toward vaccination, Mathematical modeling/work/program/final paper/model with ages/data/aggrigated/daily/daily{state},{dd}.txt'\n",
    "            data=np.loadtxt(tit)\n",
    "            data2=np.zeros([6,567-31])\n",
    "            for i in range(31,567):\n",
    "                data2[0,i-31]=np.average(data[0,i-7:i])\n",
    "                data2[1,i-31]=np.average(data[1,i-7:i])\n",
    "                data2[2,i-31]=np.average(data[2,i-7:i])\n",
    "                data2[3,i-31]=np.average(data[3,i-7:i])\n",
    "                data2[4,i-31]=np.average(data[4,i-7:i])\n",
    "                data2[5,i-31]=np.average(data[5,i-7:i])\n",
    "            freq[0,:]+=((data2[0,:]+data2[1,:]+data2[4,:])/np.sum(data2,axis=0))\n",
    "            freq[1,:]+=((data2[2,:]+data2[3,:])/np.sum(data2,axis=0))\n",
    "            freq[2,:]+=((data2[5,:])/np.sum(data2,axis=0))\n",
    "        Orginal_data[\"Accepted,age=\"+str(ii)]=freq[0,:]/len(agelist[ii])\n",
    "        Orginal_data[\"Refused,age=\"+str(ii)]=freq[1,:]/len(agelist[ii])\n",
    "        Orginal_data[\"Vaccinated,age=\"+str(ii)]=freq[2,:]/len(agelist[ii])\n",
    "    Orginal_data.to_csv(state+\".csv\", index=False)"
   ]
  },
  {
   "cell_type": "code",
   "execution_count": null,
   "id": "4637a3d6",
   "metadata": {},
   "outputs": [],
   "source": []
  },
  {
   "cell_type": "code",
   "execution_count": null,
   "id": "13e050cb",
   "metadata": {},
   "outputs": [],
   "source": []
  },
  {
   "cell_type": "code",
   "execution_count": null,
   "id": "540d3e5b",
   "metadata": {},
   "outputs": [],
   "source": []
  }
 ],
 "metadata": {
  "kernelspec": {
   "display_name": "Python 3 (ipykernel)",
   "language": "python",
   "name": "python3"
  },
  "language_info": {
   "codemirror_mode": {
    "name": "ipython",
    "version": 3
   },
   "file_extension": ".py",
   "mimetype": "text/x-python",
   "name": "python",
   "nbconvert_exporter": "python",
   "pygments_lexer": "ipython3",
   "version": "3.12.4"
  }
 },
 "nbformat": 4,
 "nbformat_minor": 5
}
