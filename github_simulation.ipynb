{
 "cells": [
  {
   "cell_type": "code",
   "execution_count": null,
   "id": "d8968c4e-8912-445a-abab-ac223dd3260a",
   "metadata": {},
   "outputs": [],
   "source": [
    "from timefixation2 import dynamic\n",
    "import numpy as np\n",
    "fixprosi=np.zeros([4,101])\n",
    "fixtimesi=np.zeros([4,101])\n",
    "a,b,c,d,w,n,T=3,0,5,1,1,5,1 #defind parameters\n",
    "mu=10000000 #number of averaging for a set of parameters\n",
    "ppas=np.zeros([size1])\n",
    "pnex=np.zeros([size1])\n",
    "pstay=np.zeros([size1])\n",
    "fix=np.zeros([mu])\n",
    "fixtim=np.zeros([mu])\n",
    "TA=T\n",
    "TB=T\n",
    "nc=1\n",
    "f=1-w+w*((a*(nc-1)+(n-nc)*b)/(n-1))\n",
    "g=1-w+w*((nc*c+(n-nc-1)*d)/(n-1))\n",
    "ffi=np.ones([TA+1])*f\n",
    "ggi=np.ones([TB+1])*g\n",
    "dynamic(a,b,c,d,w,nc,n,fix,fixtim,ffi,ggi,ppas,pnex,pstay,6,TA+1,TB+1,mu) #load fortran package for montecarlo simulation\n",
    "fixprosi=np.sum(fix)/mu\n",
    "fixtimesi=np.sum(fixtim)/np.sum(fix)   \n",
    "np.savetxt(\"fixation_probability.txt\",fixprosi)\n",
    "np.savetxt(\"fixation_Time.txt\",fixtimesi)"
   ]
  }
 ],
 "metadata": {
  "kernelspec": {
   "display_name": "Python 3 (ipykernel)",
   "language": "python",
   "name": "python3"
  },
  "language_info": {
   "codemirror_mode": {
    "name": "ipython",
    "version": 3
   },
   "file_extension": ".py",
   "mimetype": "text/x-python",
   "name": "python",
   "nbconvert_exporter": "python",
   "pygments_lexer": "ipython3",
   "version": "3.12.4"
  }
 },
 "nbformat": 4,
 "nbformat_minor": 5
}
